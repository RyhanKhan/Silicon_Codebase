{
 "cells": [
  {
   "cell_type": "code",
   "execution_count": 2,
   "id": "7f13c651",
   "metadata": {},
   "outputs": [],
   "source": [
    "import pandas as pd\n",
    "\n",
    "df_master = pd.read_csv(\"master_orders_customers_stores.csv\")\n",
    "\n",
    "# Ensure datetime\n",
    "df_master['ORDER_CREATED_DATE'] = pd.to_datetime(df_master['ORDER_CREATED_DATE'])\n",
    "\n",
    "# Day of week (0 = Monday, 6 = Sunday)\n",
    "df_master['day_of_week'] = df_master['ORDER_CREATED_DATE'].dt.dayofweek\n",
    "\n",
    "# Hour of the day\n",
    "df_master['hour_of_day'] = df_master['ORDER_CREATED_DATE'].dt.hour\n",
    "\n",
    "# Weekend flag\n",
    "df_master['is_weekend'] = df_master['day_of_week'].isin([5, 6]).astype(int)\n",
    "\n",
    "# Month\n",
    "df_master['month'] = df_master['ORDER_CREATED_DATE'].dt.month\n"
   ]
  },
  {
   "cell_type": "code",
   "execution_count": null,
   "id": "460d1344",
   "metadata": {},
   "outputs": [],
   "source": [
    "# Weekend ordering ratio\n",
    "weekend_ratio = df_master.groupby('CUSTOMER_ID')['is_weekend'].mean().reset_index()\n",
    "weekend_ratio.columns = ['CUSTOMER_ID', 'weekend_order_ratio']\n",
    "\n",
    "# Most common hour (mode) for each customer\n",
    "common_hour = (\n",
    "    df_master.groupby('CUSTOMER_ID')['hour_of_day']\n",
    "    .agg(lambda x: x.mode()[0] if not x.mode().empty else -1)\n",
    "    .reset_index()\n",
    ")\n",
    "common_hour.columns = ['CUSTOMER_ID', 'most_common_order_hour']\n",
    "\n",
    "# Most common day of week\n",
    "common_dow = (\n",
    "    df_master.groupby('CUSTOMER_ID')['day_of_week']\n",
    "    .agg(lambda x: x.mode()[0] if not x.mode().empty else -1)\n",
    "    .reset_index()\n",
    ")\n",
    "common_dow.columns = ['CUSTOMER_ID', 'most_common_order_dow']\n"
   ]
  },
  {
   "cell_type": "code",
   "execution_count": null,
   "id": "8c43cf81",
   "metadata": {},
   "outputs": [],
   "source": [
    "# Most frequent store\n",
    "most_common_store = (\n",
    "    df_master.groupby('CUSTOMER_ID')['STORE_NUMBER']\n",
    "    .agg(lambda x: x.mode()[0] if not x.mode().empty else -1)\n",
    "    .reset_index()\n",
    ")\n",
    "most_common_store.columns = ['CUSTOMER_ID', 'most_common_store']\n",
    "\n",
    "# Store diversity count\n",
    "store_diversity = (\n",
    "    df_master.groupby('CUSTOMER_ID')['STORE_NUMBER']\n",
    "    .nunique()\n",
    "    .reset_index()\n",
    ")\n",
    "store_diversity.columns = ['CUSTOMER_ID', 'store_diversity_count']\n"
   ]
  }
 ],
 "metadata": {
  "kernelspec": {
   "display_name": ".venv",
   "language": "python",
   "name": "python3"
  },
  "language_info": {
   "codemirror_mode": {
    "name": "ipython",
    "version": 3
   },
   "file_extension": ".py",
   "mimetype": "text/x-python",
   "name": "python",
   "nbconvert_exporter": "python",
   "pygments_lexer": "ipython3",
   "version": "3.9.6"
  }
 },
 "nbformat": 4,
 "nbformat_minor": 5
}

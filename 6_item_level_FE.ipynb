{
 "cells": [
  {
   "cell_type": "code",
   "execution_count": 1,
   "id": "bee30fe2",
   "metadata": {},
   "outputs": [],
   "source": [
    "# Step 0: Imports\n",
    "import pandas as pd\n",
    "import numpy as np\n",
    "from pathlib import Path\n",
    "\n",
    "# Optional: gensim for item2vec (install gensim if using that section)\n",
    "# pip install gensim"
   ]
  },
  {
   "cell_type": "code",
   "execution_count": 2,
   "id": "d95dd430",
   "metadata": {},
   "outputs": [
    {
     "name": "stdout",
     "output_type": "stream",
     "text": [
      "Detected 130 item columns\n",
      "['$19.99 Crispy Feast', '10 pc Grilled Wings', '10 pc Grilled Wings Combo', '10 pc Mixed Wings', '10 pc Mixed Wings Combo', '10 pc Spicy Wings', '10 pc Spicy Wings Combo', '100 pc Family Grilled Wings', '100 pc Family Mixed Wings', '100 pc Family Spicy Wings', '100 pc Grilled Wings', '100 pc Mixed Wings', '100 pc Spicy Wings', '15 pc Crispy Strips', '15 pc Grilled Wings', '15 pc Grilled Wings Combo', '15 pc Mixed Wings', '15 pc Mixed Wings Combo', '15 pc Spicy Wings', '15 pc Spicy Wings Combo', '2 pc Crispy Strips', '20 Oz Soda', '20 pc Crispy Strips', '20 pc Grilled Wings', '20 pc Mixed Wings', '20 pc Spicy Wings', '20pc Spicy Feast Deal', '24 pc Family Grilled Wings', '24 pc Family Mixed Wings', '24 pc Family Spicy Wings']\n"
     ]
    }
   ],
   "source": [
    "orders_fp = \"order_data_cleaned_and_encoded.csv\"\n",
    "df = pd.read_csv(orders_fp, low_memory=False)\n",
    "\n",
    "# Meta columns that are NOT item columns (adjust if you have additional meta columns)\n",
    "meta_cols = {\n",
    "    \"CUSTOMER_ID\", \"STORE_NUMBER\", \"ORDER_CREATED_DATE\", \"ORDER_ID\",\n",
    "    \"ORDER_CHANNEL_NAME\", \"ORDER_SUBCHANNEL_NAME\", \"ORDER_OCCASION_NAME\",\n",
    "    \"total_order_price\"\n",
    "}\n",
    "\n",
    "# Detect item columns as all other columns\n",
    "item_cols = [c for c in df.columns if c not in meta_cols]\n",
    "print(f\"Detected {len(item_cols)} item columns\")\n",
    "# quick check\n",
    "print(item_cols[:30])"
   ]
  },
  {
   "cell_type": "code",
   "execution_count": 4,
   "id": "19bfdd01",
   "metadata": {},
   "outputs": [
    {
     "name": "stdout",
     "output_type": "stream",
     "text": [
      "Orders: 1414410\n"
     ]
    }
   ],
   "source": [
    "presence = (df[item_cols] > 0).astype(np.int32)   # DataFrame same index as df, columns = item_cols\n",
    "n_orders = presence.shape[0]\n",
    "print(\"Orders:\", n_orders)\n"
   ]
  },
  {
   "cell_type": "code",
   "execution_count": 5,
   "id": "0d9f8b33",
   "metadata": {},
   "outputs": [
    {
     "name": "stdout",
     "output_type": "stream",
     "text": [
      "                            count      freq\n",
      "Ranch Dip - Regular        302870  0.214132\n",
      "20pc Spicy Feast Deal      267974  0.189460\n",
      "10 pc Grilled Wings Combo  166664  0.117833\n",
      "6 pc Grilled Wings Combo   117894  0.083352\n",
      "8 pc Grilled Wings Combo   117595  0.083141\n",
      "Regular Buffalo Fries      100141  0.070801\n",
      "2 pc Crispy Strips          84162  0.059503\n",
      "Ranch Dip - Large           80610  0.056992\n",
      "6 pc Spicy Wings Combo      72234  0.051070\n",
      "10 pc Grilled Wings         67043  0.047400\n",
      "Large Buffalo Fries         59962  0.042394\n",
      "8 pc Spicy Wings Combo      59308  0.041931\n",
      "10 pc Spicy Wings           59039  0.041741\n",
      "Fried Corn - Regular        58584  0.041419\n",
      "Chicken Sub Combo           58169  0.041126\n",
      "10 pc Spicy Wings Combo     57397  0.040580\n",
      "Flavor Platter              55667  0.039357\n",
      "3 pc Crispy Strips Combo    54478  0.038516\n",
      "Chicken Sub                 45257  0.031997\n",
      "15 pc Grilled Wings Combo   43452  0.030721\n"
     ]
    }
   ],
   "source": [
    "item_counts = presence.sum(axis=0).rename(\"count\")    # number of orders containing item\n",
    "item_freq = (item_counts / n_orders).rename(\"freq\")   # fraction of orders containing item\n",
    "item_stats = pd.concat([item_counts, item_freq], axis=1).sort_values(\"count\", ascending=False)\n",
    "print(item_stats.head(20))\n",
    "# Save if you want:\n",
    "item_stats.to_csv(\"item_stats_counts_and_freq.csv\")\n"
   ]
  },
  {
   "cell_type": "markdown",
   "id": "fc37daf4",
   "metadata": {},
   "source": [
    "4) Co-occurrence matrix (dense)\n",
    "Because unique items < 200, we can compute the full items × items matrix via a matrix multiplication."
   ]
  },
  {
   "cell_type": "code",
   "execution_count": 6,
   "id": "2b0d95c8",
   "metadata": {},
   "outputs": [],
   "source": [
    "# cooccurrence counts: cooc[i,j] = number of orders containing both i and j\n",
    "cooc_matrix = presence.T.dot(presence)   # DataFrame: index & cols = item_cols\n",
    "cooc_matrix.index.name = \"item\"\n",
    "cooc_matrix.columns.name = \"item\"\n",
    "\n",
    "# Sanity: diagonal equals item_counts\n",
    "assert (np.allclose(np.diag(cooc_matrix.values), item_counts.values)), \"Diagonal mismatch\"\n",
    "\n",
    "# Save (CSV) if you want\n",
    "cooc_matrix.to_csv(\"item_cooccurrence_counts.csv\")\n"
   ]
  },
  {
   "cell_type": "code",
   "execution_count": 7,
   "id": "6b9aa058",
   "metadata": {},
   "outputs": [],
   "source": [
    "# Joint probability P(i & j)\n",
    "P_ij = cooc_matrix / n_orders\n",
    "\n",
    "# P(i) as Series (already computed as item_freq)\n",
    "P_i = item_freq\n",
    "P_j = item_freq\n",
    "\n",
    "# Conditional probabilities P(j|i): for each row i, divide row by count(i)\n",
    "# avoid division by zero (if some item_count==0)\n",
    "counts = item_counts.replace(0, np.nan)  # will produce NaN for items with 0 count\n",
    "P_j_given_i = cooc_matrix.div(counts, axis=0)  # rows are i, columns j\n",
    "\n",
    "# Lift: P(i,j) / (P(i)*P(j)) -> matrix\n",
    "# Construct denominator matrix P(i)*P(j)\n",
    "den = np.outer(P_i.values, P_j.values)\n",
    "lift = P_ij.values / den\n",
    "lift = pd.DataFrame(lift, index=item_cols, columns=item_cols)\n",
    "\n",
    "# Jaccard: cooc / (count(i) + count(j) - cooc)\n",
    "counts_matrix = np.add.outer(item_counts.values, item_counts.values)\n",
    "jaccard = cooc_matrix / (counts_matrix - cooc_matrix)\n",
    "\n",
    "# Save some matrices\n",
    "P_j_given_i.to_csv(\"P_j_given_i.csv\")     # careful: contains NaNs for rare items\n",
    "lift.to_csv(\"item_lift_matrix.csv\")\n",
    "jaccard.to_csv(\"item_jaccard_matrix.csv\")\n"
   ]
  },
  {
   "cell_type": "code",
   "execution_count": 8,
   "id": "e7a62a85",
   "metadata": {},
   "outputs": [
    {
     "name": "stdout",
     "output_type": "stream",
     "text": [
      "Top by P(j|i) for Ranch Dip - Regular [('10 pc Grilled Wings Combo', 0.15301944728761516), ('Regular Buffalo Fries', 0.13915541321358998), ('10 pc Grilled Wings', 0.12858982401690494), ('10 pc Spicy Wings', 0.10440122824974411), ('8 pc Grilled Wings Combo', 0.10009575065209496)]\n",
      "Top by cooc for Ranch Dip - Regular [('10 pc Grilled Wings Combo', 46345), ('Regular Buffalo Fries', 42146), ('10 pc Grilled Wings', 38946), ('10 pc Spicy Wings', 31620), ('8 pc Grilled Wings Combo', 30316)]\n",
      "Top by lift for Ranch Dip - Regular [('Sports Drink', 4.67002344240103), ('10 pc Mixed Wings', 3.0266194650927614), ('15 pc Mixed Wings', 2.917115631923525), ('20 pc Mixed Wings', 2.8278952059527023), ('10 pc Grilled Wings', 2.712866861383746)]\n"
     ]
    }
   ],
   "source": [
    "def get_topk(df_matrix, k=10):\n",
    "    \"\"\"\n",
    "    df_matrix: square DataFrame indexed & columns by item names\n",
    "    returns dict[item] = list of (item_j, score) sorted descending\n",
    "    \"\"\"\n",
    "    topk = {}\n",
    "    for i in df_matrix.index:\n",
    "        series = df_matrix.loc[i].drop(labels=[i], errors='ignore')  # drop self\n",
    "        srt = series.sort_values(ascending=False).head(k)\n",
    "        topk[i] = list(zip(srt.index.tolist(), srt.values.tolist()))\n",
    "    return topk\n",
    "\n",
    "top10_by_Pjg = get_topk(P_j_given_i.fillna(0), k=10)   # using conditional prob\n",
    "top10_by_cooc = get_topk(cooc_matrix, k=10)\n",
    "top10_by_lift = get_topk(lift.fillna(0), k=10)\n",
    "\n",
    "# Example: print top 5 for a sample item name\n",
    "sample_item = item_stats.index[0]   # most popular item\n",
    "print(\"Top by P(j|i) for\", sample_item, top10_by_Pjg[sample_item][:5])\n",
    "print(\"Top by cooc for\", sample_item, top10_by_cooc[sample_item][:5])\n",
    "print(\"Top by lift for\", sample_item, top10_by_lift[sample_item][:5])\n",
    "\n",
    "# Save top lists to disk (as JSON)\n",
    "import json\n",
    "with open(\"top10_by_Pjg.json\",\"w\") as f:\n",
    "    json.dump(top10_by_Pjg, f)\n"
   ]
  },
  {
   "cell_type": "code",
   "execution_count": 9,
   "id": "375315a8",
   "metadata": {},
   "outputs": [
    {
     "name": "stdout",
     "output_type": "stream",
     "text": [
      "Top candidates: item\n",
      "Ranch Dip - Regular         0.546536\n",
      "20pc Spicy Feast Deal       0.412700\n",
      "Regular Buffalo Fries       0.180186\n",
      "2 pc Crispy Strips          0.123584\n",
      "10 pc Spicy Wings           0.119987\n",
      "Ranch Dip - Large           0.106153\n",
      "6 pc Grilled Wings Combo    0.105485\n",
      "8 pc Grilled Wings Combo    0.105139\n",
      "Fried Corn - Regular        0.100454\n",
      "10 pc Spicy Wings Combo     0.078102\n",
      "dtype: float64\n"
     ]
    }
   ],
   "source": [
    "def score_candidates_from_cart(cart_items, P_j_given_i_df, item_counts_series, exclude_in_cart=True, weight_by_popularity=False):\n",
    "    \"\"\"\n",
    "    cart_items: list of item names present in cart\n",
    "    Returns a pd.Series indexed by item_name of scores\n",
    "    \"\"\"\n",
    "    # ensure cart_items exist in P_j_given_i_df\n",
    "    valid_cart = [c for c in cart_items if c in P_j_given_i_df.index]\n",
    "    if not valid_cart:\n",
    "        # fallback: return global popularity\n",
    "        return item_counts_series.sort_values(ascending=False)\n",
    "\n",
    "    # Sum of P(j|i) across items in cart (rows i)\n",
    "    # P_j_given_i_df rows = i, columns = j\n",
    "    summed = P_j_given_i_df.loc[valid_cart].sum(axis=0).copy()  # Series indexed by j\n",
    "\n",
    "    if weight_by_popularity:\n",
    "        # downweight contributions from extremely popular items\n",
    "        weights = 1 / np.log1p(item_counts_series)  # Series indexed by items\n",
    "        # multiply rows by weights (align by index)\n",
    "        weighted_matrix = P_j_given_i_df.mul(weights, axis=0)\n",
    "        summed = weighted_matrix.loc[valid_cart].sum(axis=0)\n",
    "\n",
    "    if exclude_in_cart:\n",
    "        for it in cart_items:\n",
    "            if it in summed.index:\n",
    "                summed[it] = -np.inf  # ensure not recommended\n",
    "\n",
    "    # sort descending\n",
    "    return summed.sort_values(ascending=False)\n",
    "\n",
    "# Example usage\n",
    "cart = [\"10 pc Grilled Wings Combo\", \"20 Oz Soda\"]   # change to actual item names in your dataset\n",
    "scores = score_candidates_from_cart(cart, P_j_given_i.fillna(0), item_counts)\n",
    "top3 = scores.head(10)\n",
    "print(\"Top candidates:\", top3.head(10))\n"
   ]
  },
  {
   "cell_type": "code",
   "execution_count": null,
   "id": "35dee7fd",
   "metadata": {},
   "outputs": [],
   "source": []
  }
 ],
 "metadata": {
  "kernelspec": {
   "display_name": ".venv",
   "language": "python",
   "name": "python3"
  },
  "language_info": {
   "codemirror_mode": {
    "name": "ipython",
    "version": 3
   },
   "file_extension": ".py",
   "mimetype": "text/x-python",
   "name": "python",
   "nbconvert_exporter": "python",
   "pygments_lexer": "ipython3",
   "version": "3.9.6"
  }
 },
 "nbformat": 4,
 "nbformat_minor": 5
}

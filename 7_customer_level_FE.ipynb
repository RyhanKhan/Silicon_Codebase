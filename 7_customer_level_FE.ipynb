{
 "cells": [
  {
   "cell_type": "code",
   "execution_count": 8,
   "id": "a94c6499",
   "metadata": {},
   "outputs": [],
   "source": [
    "import pandas as pd"
   ]
  },
  {
   "cell_type": "code",
   "execution_count": 3,
   "id": "c5b58f22",
   "metadata": {},
   "outputs": [],
   "source": [
    "# Load master dataset (already cleaned & encoded)\n",
    "df_master = pd.read_csv(\"master_orders_customers_stores.csv\")"
   ]
  },
  {
   "cell_type": "code",
   "execution_count": 9,
   "id": "606fe20e",
   "metadata": {},
   "outputs": [],
   "source": [
    "# ---------------------------------\n",
    "# 0️⃣ Identify item columns safely\n",
    "# ---------------------------------\n",
    "exclude_cols = [\n",
    "    \"CUSTOMER_ID\", \"STORE_NUMBER\", \"ORDER_CREATED_DATE\", \"ORDER_ID\",\n",
    "    \"ORDER_CHANNEL_NAME\", \"ORDER_SUBCHANNEL_NAME\", \"ORDER_OCCASION_NAME\",\n",
    "    \"total_order_price\", \"cust_registered\", \"cust_guest\", \"cust_special_membership\",\n",
    "    \"store_STATE\"\n",
    "] + [col for col in df_master.columns if col.startswith(\"store_city_\")]\n",
    "\n",
    "item_cols = [col for col in df_master.columns if col not in exclude_cols]\n",
    "\n",
    "# Ensure item columns are numeric\n",
    "df_master[item_cols] = df_master[item_cols].apply(pd.to_numeric, errors=\"coerce\").fillna(0)"
   ]
  },
  {
   "cell_type": "code",
   "execution_count": 10,
   "id": "9c9cf8f1",
   "metadata": {},
   "outputs": [],
   "source": [
    "# ===============================\n",
    "# 1️⃣ Total orders per customer\n",
    "# ===============================\n",
    "customer_orders_count = (\n",
    "    df_master.groupby(\"CUSTOMER_ID\")[\"ORDER_ID\"]\n",
    "    .nunique()\n",
    "    .reset_index()\n",
    "    .rename(columns={\"ORDER_ID\": \"orders_count\"})\n",
    ")"
   ]
  },
  {
   "cell_type": "code",
   "execution_count": 11,
   "id": "69e2dd99",
   "metadata": {},
   "outputs": [],
   "source": [
    "# ===============================\n",
    "# 2️⃣ Total items purchased\n",
    "# ===============================\n",
    "customer_items_count = (\n",
    "    df_master.groupby(\"CUSTOMER_ID\")[item_cols]\n",
    "    .sum()\n",
    "    .sum(axis=1)\n",
    "    .reset_index()\n",
    ")\n",
    "customer_items_count.columns = [\"CUSTOMER_ID\", \"items_count\"]"
   ]
  },
  {
   "cell_type": "code",
   "execution_count": 12,
   "id": "7ef598b7",
   "metadata": {},
   "outputs": [],
   "source": [
    "# ===============================\n",
    "# 3️⃣ Favorite item (most purchased)\n",
    "# ===============================\n",
    "favorite_item = (\n",
    "    df_master.groupby(\"CUSTOMER_ID\")[item_cols]\n",
    "    .sum()\n",
    "    .idxmax(axis=1)\n",
    "    .reset_index()\n",
    ")\n",
    "favorite_item.columns = [\"CUSTOMER_ID\", \"favorite_item\"]"
   ]
  },
  {
   "cell_type": "code",
   "execution_count": 13,
   "id": "24131eb3",
   "metadata": {},
   "outputs": [],
   "source": [
    "# ===============================\n",
    "# 4️⃣ Repeat purchase rate\n",
    "#     (# items bought more than once / total distinct items bought)\n",
    "# ===============================\n",
    "customer_item_freq = df_master.groupby(\"CUSTOMER_ID\")[item_cols].sum()\n",
    "\n",
    "repeat_purchase_rate = (\n",
    "    (customer_item_freq > 1).sum(axis=1) /\n",
    "    (customer_item_freq > 0).sum(axis=1)\n",
    ").reset_index()\n",
    "repeat_purchase_rate.columns = [\"CUSTOMER_ID\", \"repeat_purchase_rate\"]"
   ]
  },
  {
   "cell_type": "code",
   "execution_count": 14,
   "id": "55689d85",
   "metadata": {},
   "outputs": [],
   "source": [
    "# ===============================\n",
    "# 5️⃣ Average order value\n",
    "# ===============================\n",
    "avg_order_value = (\n",
    "    df_master.groupby(\"CUSTOMER_ID\")[\"total_order_price\"]\n",
    "    .mean()\n",
    "    .reset_index()\n",
    "    .rename(columns={\"total_order_price\": \"avg_order_value\"})\n",
    ")"
   ]
  },
  {
   "cell_type": "code",
   "execution_count": 15,
   "id": "a8c2b4bc",
   "metadata": {},
   "outputs": [],
   "source": [
    "# ===============================\n",
    "# 6️⃣ Merge all customer-level features\n",
    "# ===============================\n",
    "df_customer_features = (\n",
    "    customer_orders_count\n",
    "    .merge(customer_items_count, on=\"CUSTOMER_ID\", how=\"left\")\n",
    "    .merge(favorite_item, on=\"CUSTOMER_ID\", how=\"left\")\n",
    "    .merge(repeat_purchase_rate, on=\"CUSTOMER_ID\", how=\"left\")\n",
    "    .merge(avg_order_value, on=\"CUSTOMER_ID\", how=\"left\")\n",
    ")"
   ]
  },
  {
   "cell_type": "code",
   "execution_count": 16,
   "id": "242ada25",
   "metadata": {},
   "outputs": [
    {
     "name": "stdout",
     "output_type": "stream",
     "text": [
      "✅ Customer-level features file created: customer_level_features.csv\n"
     ]
    }
   ],
   "source": [
    "\n",
    "# ===============================\n",
    "# 7️⃣ Save to CSV\n",
    "# ===============================\n",
    "df_customer_features.to_csv(\"customer_level_features.csv\", index=False)\n",
    "\n",
    "print(\"✅ Customer-level features file created: customer_level_features.csv\")"
   ]
  },
  {
   "cell_type": "code",
   "execution_count": 17,
   "id": "d8a8c73f",
   "metadata": {},
   "outputs": [
    {
     "data": {
      "text/html": [
       "<div>\n",
       "<style scoped>\n",
       "    .dataframe tbody tr th:only-of-type {\n",
       "        vertical-align: middle;\n",
       "    }\n",
       "\n",
       "    .dataframe tbody tr th {\n",
       "        vertical-align: top;\n",
       "    }\n",
       "\n",
       "    .dataframe thead th {\n",
       "        text-align: right;\n",
       "    }\n",
       "</style>\n",
       "<table border=\"1\" class=\"dataframe\">\n",
       "  <thead>\n",
       "    <tr style=\"text-align: right;\">\n",
       "      <th></th>\n",
       "      <th>CUSTOMER_ID</th>\n",
       "      <th>orders_count</th>\n",
       "      <th>items_count</th>\n",
       "      <th>favorite_item</th>\n",
       "      <th>repeat_purchase_rate</th>\n",
       "      <th>avg_order_value</th>\n",
       "    </tr>\n",
       "  </thead>\n",
       "  <tbody>\n",
       "    <tr>\n",
       "      <th>0</th>\n",
       "      <td>1588</td>\n",
       "      <td>4</td>\n",
       "      <td>6</td>\n",
       "      <td>20pc Spicy Feast Deal</td>\n",
       "      <td>0.500000</td>\n",
       "      <td>17.460000</td>\n",
       "    </tr>\n",
       "    <tr>\n",
       "      <th>1</th>\n",
       "      <td>2475</td>\n",
       "      <td>2</td>\n",
       "      <td>7</td>\n",
       "      <td>20pc Spicy Feast Deal</td>\n",
       "      <td>0.200000</td>\n",
       "      <td>57.255000</td>\n",
       "    </tr>\n",
       "    <tr>\n",
       "      <th>2</th>\n",
       "      <td>4769</td>\n",
       "      <td>1</td>\n",
       "      <td>2</td>\n",
       "      <td>40 pc Family Mixed Wings</td>\n",
       "      <td>0.000000</td>\n",
       "      <td>57.080000</td>\n",
       "    </tr>\n",
       "    <tr>\n",
       "      <th>3</th>\n",
       "      <td>5791</td>\n",
       "      <td>1</td>\n",
       "      <td>1</td>\n",
       "      <td>25 pc Game Day Pack</td>\n",
       "      <td>0.000000</td>\n",
       "      <td>24.990000</td>\n",
       "    </tr>\n",
       "    <tr>\n",
       "      <th>4</th>\n",
       "      <td>6524</td>\n",
       "      <td>3</td>\n",
       "      <td>6</td>\n",
       "      <td>10 pc Grilled Wings</td>\n",
       "      <td>0.000000</td>\n",
       "      <td>37.346667</td>\n",
       "    </tr>\n",
       "    <tr>\n",
       "      <th>5</th>\n",
       "      <td>7771</td>\n",
       "      <td>7</td>\n",
       "      <td>21</td>\n",
       "      <td>10 pc Grilled Wings Combo</td>\n",
       "      <td>0.500000</td>\n",
       "      <td>58.392857</td>\n",
       "    </tr>\n",
       "    <tr>\n",
       "      <th>6</th>\n",
       "      <td>11823</td>\n",
       "      <td>1</td>\n",
       "      <td>4</td>\n",
       "      <td>6 pc Grilled Wings Combo</td>\n",
       "      <td>1.000000</td>\n",
       "      <td>93.120000</td>\n",
       "    </tr>\n",
       "    <tr>\n",
       "      <th>7</th>\n",
       "      <td>14343</td>\n",
       "      <td>16</td>\n",
       "      <td>30</td>\n",
       "      <td>Chicken Sub</td>\n",
       "      <td>0.416667</td>\n",
       "      <td>20.719375</td>\n",
       "    </tr>\n",
       "    <tr>\n",
       "      <th>8</th>\n",
       "      <td>15966</td>\n",
       "      <td>4</td>\n",
       "      <td>5</td>\n",
       "      <td>24 pc Family Grilled Wings</td>\n",
       "      <td>0.500000</td>\n",
       "      <td>35.262500</td>\n",
       "    </tr>\n",
       "    <tr>\n",
       "      <th>9</th>\n",
       "      <td>17591</td>\n",
       "      <td>1</td>\n",
       "      <td>2</td>\n",
       "      <td>24 pc Family Grilled Wings</td>\n",
       "      <td>0.000000</td>\n",
       "      <td>39.680000</td>\n",
       "    </tr>\n",
       "  </tbody>\n",
       "</table>\n",
       "</div>"
      ],
      "text/plain": [
       "   CUSTOMER_ID  orders_count  items_count               favorite_item  \\\n",
       "0         1588             4            6       20pc Spicy Feast Deal   \n",
       "1         2475             2            7       20pc Spicy Feast Deal   \n",
       "2         4769             1            2    40 pc Family Mixed Wings   \n",
       "3         5791             1            1         25 pc Game Day Pack   \n",
       "4         6524             3            6         10 pc Grilled Wings   \n",
       "5         7771             7           21   10 pc Grilled Wings Combo   \n",
       "6        11823             1            4    6 pc Grilled Wings Combo   \n",
       "7        14343            16           30                 Chicken Sub   \n",
       "8        15966             4            5  24 pc Family Grilled Wings   \n",
       "9        17591             1            2  24 pc Family Grilled Wings   \n",
       "\n",
       "   repeat_purchase_rate  avg_order_value  \n",
       "0              0.500000        17.460000  \n",
       "1              0.200000        57.255000  \n",
       "2              0.000000        57.080000  \n",
       "3              0.000000        24.990000  \n",
       "4              0.000000        37.346667  \n",
       "5              0.500000        58.392857  \n",
       "6              1.000000        93.120000  \n",
       "7              0.416667        20.719375  \n",
       "8              0.500000        35.262500  \n",
       "9              0.000000        39.680000  "
      ]
     },
     "execution_count": 17,
     "metadata": {},
     "output_type": "execute_result"
    }
   ],
   "source": [
    "df_customer_features.head(10)"
   ]
  },
  {
   "cell_type": "code",
   "execution_count": null,
   "id": "6fc3aae5",
   "metadata": {},
   "outputs": [],
   "source": []
  }
 ],
 "metadata": {
  "kernelspec": {
   "display_name": ".venv",
   "language": "python",
   "name": "python3"
  },
  "language_info": {
   "codemirror_mode": {
    "name": "ipython",
    "version": 3
   },
   "file_extension": ".py",
   "mimetype": "text/x-python",
   "name": "python",
   "nbconvert_exporter": "python",
   "pygments_lexer": "ipython3",
   "version": "3.9.6"
  }
 },
 "nbformat": 4,
 "nbformat_minor": 5
}

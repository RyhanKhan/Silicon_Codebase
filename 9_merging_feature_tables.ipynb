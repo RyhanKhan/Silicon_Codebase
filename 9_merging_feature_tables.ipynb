{
 "cells": [
  {
   "cell_type": "code",
   "execution_count": null,
   "id": "c6e6c606",
   "metadata": {},
   "outputs": [],
   "source": [
    "import pandas as pd\n",
    "\n",
    "# Base dataset\n",
    "df_orders = pd.read_csv(\"master_data_cleaned_and_encoded.csv\")\n",
    "\n",
    "# Customer features\n",
    "df_customer_feats = pd.read_csv(\"customer_level_features.csv\")\n",
    "\n",
    "# Contextual features\n",
    "df_context_feats = pd.read_csv(\"contextual_features.csv\")"
   ]
  },
  {
   "cell_type": "code",
   "execution_count": null,
   "id": "d42b6d28",
   "metadata": {},
   "outputs": [],
   "source": [
    "# Merge with customer-level features\n",
    "df_master = df_orders.merge(df_customer_feats, on=\"CUSTOMER_ID\", how=\"left\")\n",
    "\n",
    "# Merge with contextual features\n",
    "df_master = df_master.merge(df_context_feats, on=\"CUSTOMER_ID\", how=\"left\")"
   ]
  },
  {
   "cell_type": "code",
   "execution_count": null,
   "id": "05bb0055",
   "metadata": {},
   "outputs": [],
   "source": [
    "# Fill NaNs in new features with 0 (common for counts/freq)\n",
    "df_master.fillna(0, inplace=True)"
   ]
  },
  {
   "cell_type": "code",
   "execution_count": null,
   "id": "bf4e3a75",
   "metadata": {},
   "outputs": [],
   "source": [
    "df_master.to_csv(\"modeling_dataset.csv\", index=False)\n",
    "print(\"Final modeling dataset shape:\", df_master.shape)"
   ]
  }
 ],
 "metadata": {
  "kernelspec": {
   "display_name": ".venv",
   "language": "python",
   "name": "python3"
  },
  "language_info": {
   "name": "python",
   "version": "3.9.6"
  }
 },
 "nbformat": 4,
 "nbformat_minor": 5
}
